{
 "cells": [
  {
   "cell_type": "markdown",
   "metadata": {},
   "source": [
    "# Jenkins:"
   ]
  },
  {
   "cell_type": "code",
   "execution_count": null,
   "metadata": {
    "vscode": {
     "languageId": "plaintext"
    }
   },
   "outputs": [],
   "source": [
    "CI - CONTINUOUS INTEGRATION\n",
    "CD - CONTINUOUS DEVELOPMENT\n",
    "\n",
    "Code - Build - Integration - continuous Integration\n",
    "code - Build - Integration - QA or UAT - continuous delivery / deployment"
   ]
  },
  {
   "cell_type": "code",
   "execution_count": null,
   "metadata": {},
   "outputs": [],
   "source": [
    "# before CI"
   ]
  },
  {
   "cell_type": "markdown",
   "metadata": {
    "vscode": {
     "languageId": "plaintext"
    }
   },
   "source": [
    "![p](img\\img1.png)"
   ]
  },
  {
   "cell_type": "code",
   "execution_count": null,
   "metadata": {},
   "outputs": [],
   "source": [
    "# after CI"
   ]
  },
  {
   "cell_type": "markdown",
   "metadata": {},
   "source": [
    "![p](img\\img2.png)"
   ]
  },
  {
   "cell_type": "code",
   "execution_count": null,
   "metadata": {},
   "outputs": [],
   "source": [
    "# pipeline:"
   ]
  },
  {
   "cell_type": "markdown",
   "metadata": {},
   "source": [
    "![p](img\\img3.png)"
   ]
  },
  {
   "cell_type": "code",
   "execution_count": null,
   "metadata": {},
   "outputs": [],
   "source": [
    "# jenkins :\n"
   ]
  },
  {
   "cell_type": "code",
   "execution_count": null,
   "metadata": {},
   "outputs": [],
   "source": [
    " * Jenkins is a open source project written in java that runs on windows , linux , max OS\n",
    " * Consist of plugins\n",
    " * it was developed by Sun microsystem.\n",
    " * whenever developers write code , we integrate all the code of all develoeprs at any point of time and we build , test and eliver / deploy to client . this is called CI / CD\n",
    " \n"
   ]
  },
  {
   "cell_type": "code",
   "execution_count": null,
   "metadata": {},
   "outputs": [],
   "source": [
    "# WORKFLOW :"
   ]
  },
  {
   "cell_type": "markdown",
   "metadata": {},
   "source": [
    "![p](img\\img4.png)"
   ]
  },
  {
   "cell_type": "markdown",
   "metadata": {},
   "source": [
    "![p](img\\img5.png)"
   ]
  },
  {
   "cell_type": "code",
   "execution_count": null,
   "metadata": {},
   "outputs": [],
   "source": [
    "# note: Jenkins works on 8080 port"
   ]
  },
  {
   "cell_type": "code",
   "execution_count": null,
   "metadata": {},
   "outputs": [],
   "source": [
    "# now go the aws account and click onn \"EC2\"\n",
    "\n",
    "* give name\n",
    "* select os ubuntu prefereed\n",
    "* create key pair or use exisitng key pair \n",
    "* hence jenkins works on 8080 port , so we have to add this\n",
    "* click on edit on \" networking settings \"\n",
    "* click on \"Add security group rule\"\n",
    "\n",
    "Type = All traffic \n",
    "Source type = Anywhere \n",
    "\n",
    "* now click on launch instance"
   ]
  },
  {
   "cell_type": "code",
   "execution_count": null,
   "metadata": {},
   "outputs": [],
   "source": [
    "# we use git for coding :\n",
    "# building we use maven\n",
    "# for testing selinium\n",
    "# for integrating use Jenkins\n",
    "# and also java . hence jenkins is written in java\n",
    "\n",
    "# so we have to install all this"
   ]
  },
  {
   "cell_type": "code",
   "execution_count": null,
   "metadata": {},
   "outputs": [],
   "source": [
    "# now loginto to ur instanc with keypair :\n",
    "\n",
    "sudo apt update / sudo yum update\n",
    "sudo -i  *it will navigate to root\n",
    " su - ubuntu * it will be back to home\n",
    "\n",
    "* now we have to setup jenkins :\n",
    "* we have to bring jenkins repo \n",
    "\n",
    "#navigate to below link:\n",
    "https://www.jenkins.io/download/\n",
    "\n",
    "* now click on redhat/fedora/al,a/rocly/centos\n",
    "\n",
    "wget = to get resourcefrom internet \n",
    "\n",
    "  sudo wget -O /etc/yum.repos.d/jenkins.repo https://pkg.jenkins.io/redhat-stable/jenkins.repo"
   ]
  },
  {
   "cell_type": "code",
   "execution_count": null,
   "metadata": {},
   "outputs": [],
   "source": [
    "# commands:\n",
    "\n",
    "if ur os is ubuntu in aws :\n",
    "\n",
    "  sudo wget -O /usr/share/keyrings/jenkins-keyring.asc \\\n",
    "    https://pkg.jenkins.io/debian-stable/jenkins.io-2023.key\n",
    "\n",
    "\n",
    "  echo \"deb [signed-by=/usr/share/keyrings/jenkins-keyring.asc]\" \\\n",
    "    https://pkg.jenkins.io/debian-stable binary/ | sudo tee \\\n",
    "    /etc/apt/sources.list.d/jenkins.list > /dev/null\n",
    "\n",
    "\n",
    "      sudo apt-get update\n",
    "  sudo apt-get install fontconfig openjdk-17-jre\n",
    "  sudo apt-get install jenkins\n",
    "\n",
    "\n",
    "  # now start and enable jenkins :\n",
    "\n",
    "  sudo systemctl start jenkins\n",
    "sudo systemctl enable jenkins\n",
    "\n",
    "\n",
    "#Access Jenkins\n",
    "\n",
    "Jenkins will run on port 8080 by default. You can access Jenkins via http://your_server_ip:8080 in a web browser.\n",
    "\n",
    "#Get the Initial Admin Password\n",
    "To set up Jenkins, you’ll need the initial admin password:\n",
    "\n",
    "sudo cat /var/lib/jenkins/secrets/initialAdminPassword\n",
    "\n",
    "\n",
    "\n",
    "\n",
    "\n",
    "\n",
    "or if ur os is amazon linux 2023:\n"
   ]
  },
  {
   "cell_type": "code",
   "execution_count": null,
   "metadata": {},
   "outputs": [],
   "source": [
    "systemctl restart jenkins.service\n",
    "systemctl status jenkins.service\n",
    "\n",
    "the output should show :\n",
    "\n",
    "● jenkins.service - Jenkins Continuous Integration Server\n",
    "     Loaded: loaded (/usr/lib/systemd/system/jenkins.service; enabled; preset: enabled)\n",
    "     Active: active (running) since Sun 2024-09-29 09:30:59 UTC; 8s ago\n",
    "   Main PID: 4604 (java)\n",
    "      Tasks: 46 (limit: 1130)\n",
    "     Memory: 240.4M (peak: 249.2M)\n",
    "        CPU: 12.308s\n",
    "     CGroup: /system.slice/jenkins.service\n",
    "             └─4604 /usr/bin/java -Djava.awt.headless=true -jar /usr/share/java/jenkins.war --webroot=/var/cache/jenkins/war --httpPort=8080\n",
    "\n",
    "Sep 29 09:30:51 ip-172-31-41-84 jenkins[4604]: Jenkins initial setup is required. An admin user has been created and a password generated.\n",
    "Sep 29 09:30:51 ip-172-31-41-84 jenkins[4604]: Please use the following password to proceed to installation:\n",
    "Sep 29 09:30:51 ip-172-31-41-84 jenkins[4604]: ab8c6a4a5af34104b2f33780dda8fd9d\n",
    "Sep 29 09:30:51 ip-172-31-41-84 jenkins[4604]: This may also be found at: /var/lib/jenkins/secrets/initialAdminPassword\n",
    "Sep 29 09:30:51 ip-172-31-41-84 jenkins[4604]: *************************************************************\n",
    "Sep 29 09:30:51 ip-172-31-41-84 jenkins[4604]: *************************************************************\n",
    "Sep 29 09:30:51 ip-172-31-41-84 jenkins[4604]: *************************************************************\n",
    "Sep 29 09:30:59 ip-172-31-41-84 jenkins[4604]: 2024-09-29 09:30:59.066+0000 [id=30]        INFO        jenkins.InitReactorRunner$1#onAttained: Completed initia>\n",
    "Sep 29 09:30:59 ip-172-31-41-84 jenkins[4604]: 2024-09-29 09:30:59.097+0000 [id=24]        INFO        hudson.lifecycle.Lifecycle#onReady: Jenkins is fully up >\n",
    "Sep 29 09:30:59 ip-172-31-41-84 systemd[1]: Started jenkins.service - Jenkins Continuous Integration Server.\n",
    "lines 1-20/20 (END)"
   ]
  },
  {
   "cell_type": "code",
   "execution_count": null,
   "metadata": {},
   "outputs": [],
   "source": [
    "#now if we want to connect with jenkins from our instance \n",
    "#now type ur public id with 8080 in browser:\n",
    "#example : \n",
    "http://3.110.33.229:8080\n"
   ]
  },
  {
   "cell_type": "code",
   "execution_count": null,
   "metadata": {},
   "outputs": [],
   "source": [
    "#after runnin gur publich ip with 8080 , the output should show below :"
   ]
  },
  {
   "cell_type": "markdown",
   "metadata": {},
   "source": [
    "![p](img\\img6.png)"
   ]
  },
  {
   "cell_type": "code",
   "execution_count": null,
   "metadata": {},
   "outputs": [],
   "source": [
    "# and our password will be in thias path :\n",
    "/var/lib/jenkins/secrets/initialAdminPassword\n",
    "\n",
    "root@ip-172-31-41-84:~# cat /var/lib/jenkins/secrets/initialAdminPassword\n",
    "\n",
    "#now the copy the pasowrd in jenkins port\n",
    "\n",
    "1# click on \"install suggested plugins\"  it will take some time to install"
   ]
  },
  {
   "cell_type": "code",
   "execution_count": null,
   "metadata": {},
   "outputs": [],
   "source": [
    "#after installing , give the username and password :"
   ]
  },
  {
   "cell_type": "markdown",
   "metadata": {},
   "source": [
    "![p](img\\img7.png)"
   ]
  },
  {
   "cell_type": "markdown",
   "metadata": {},
   "source": [
    "![p](img\\img8.png)"
   ]
  },
  {
   "cell_type": "code",
   "execution_count": null,
   "metadata": {},
   "outputs": [],
   "source": []
  },
  {
   "cell_type": "code",
   "execution_count": null,
   "metadata": {},
   "outputs": [],
   "source": []
  },
  {
   "cell_type": "code",
   "execution_count": null,
   "metadata": {},
   "outputs": [],
   "source": [
    "# now to ur insatnce :\n",
    "sudo -i       //goes to root\n",
    "su -ubuntu    //go back to home\n",
    "\n",
    "nano /etc/passwd\n",
    "\n",
    "chnage this below :\n",
    "from :\n",
    "jenkins:x:111:113:Jenkins,,,:/var/lib/jenkins:/bin/false\n",
    "To :\n",
    "jenkins:x:111:113:Jenkins,,,:/var/lib/jenkins:/bin/bash\n",
    "\n",
    "\n",
    "cat /etc/passwd\n",
    "\n",
    "# changing password :\n",
    "passwd jenkins\n",
    "\n",
    "# it will give same root previlege/ configuration to jenkins also:\n",
    "visudo\n",
    "\n",
    "from :\n",
    "User privilege specification:\n",
    "root    ALL=(ALL:ALL) ALL\n",
    "\n",
    "To :\n",
    "User privilege specification:\n",
    "root    ALL=(ALL:ALL) ALL\n",
    "jenkins ALL=(ALL:ALL) NOPASSWD: ALL\n",
    "\n",
    "* it should wont ask password , so im giving NOPASSWD\n",
    "\n",
    "\n",
    "# now we congifure ssh : incoming ssh commanf will handle this sshd\n",
    "nano /etc/ssh/sshd_config\n",
    "from :\n",
    "# To disable tunneled clear text passwords, change to no here!\n",
    "#PasswordAuthentication yes\n",
    "#PermitEmptyPasswords no\n",
    "\n",
    "to:\n",
    "# To disable tunneled clear text passwords, change to no here!\n",
    "#PasswordAuthentication yes\n",
    "#PermitEmptyPasswords no\n",
    "PasswordAuthentication yes\n",
    "\n",
    "\n",
    "\n",
    "#now we edited ssh , we need to restart :\n",
    "sudo systemctl enable ssh\n",
    "\n",
    "systemctl restart sshd\n",
    "systemctl status sshd\n",
    "or\n",
    "sudo systemctl restart ssh\n",
    "sudo systemctl restart ssh\n",
    "\n"
   ]
  },
  {
   "cell_type": "code",
   "execution_count": null,
   "metadata": {},
   "outputs": [],
   "source": [
    "//////////////////"
   ]
  },
  {
   "cell_type": "markdown",
   "metadata": {},
   "source": [
    "![p](img\\img9.png)"
   ]
  },
  {
   "cell_type": "code",
   "execution_count": null,
   "metadata": {},
   "outputs": [],
   "source": []
  }
 ],
 "metadata": {
  "language_info": {
   "name": "python"
  }
 },
 "nbformat": 4,
 "nbformat_minor": 2
}
